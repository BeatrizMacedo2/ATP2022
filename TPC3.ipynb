{
 "cells": [
  {
   "cell_type": "markdown",
   "id": "1e545158",
   "metadata": {},
   "source": [
    "# Aula Prática 3 (guião)\n",
    "### Semana de 3 a 7 de Outubro de 2022\n",
    "### José Carlos Ramalho e Luís Cunha\n",
    "### Sinopsis:\n",
    "Algoritmos sobre listas."
   ]
  },
  {
   "cell_type": "markdown",
   "id": "e38d18c4-d7d7-4fea-9bc6-e3f3c903386b",
   "metadata": {},
   "source": [
    "### Exercício 1: Criar uma lista \n",
    "- Defina uma função que recebe um argumento **N** e devolve uma  lista com os números pares até **N**;\n",
    "- Crie um programa que chama a função e imprime a lista resultante."
   ]
  },
  {
   "cell_type": "code",
   "execution_count": 5,
   "id": "af973146-3bb4-4fa8-ba6c-b887b79ccff8",
   "metadata": {},
   "outputs": [],
   "source": [
    "# Solução do exercício 1\n",
    "def criaLista(N):\n",
    "    lista= []\n",
    "    i = 0\n",
    "    while(i<=N):\n",
    "        if i % 2 == 0:\n",
    "            lista.append(i)\n",
    "        i=i+1    \n",
    "    return lista\n",
    "\n"
   ]
  },
  {
   "cell_type": "markdown",
   "id": "bdcbffb0",
   "metadata": {},
   "source": [
    "### Exercício 2: Ler uma lista de N números\n",
    "- Defina uma função que recebe um argumento **N** e lê **N** números armazenando-os numa lista que é devolvida como resultado;\n",
    "- Crie um programa que chama a função e imprime a lista resultante."
   ]
  },
  {
   "cell_type": "code",
   "execution_count": 9,
   "id": "af973146-3bb4-4fa8-ba6c-b887b79ccff8",
   "metadata": {},
   "outputs": [],
   "source": [
    "# Solução do exercício 2\n",
    "def Lelista(N):\n",
    "    Lista=[]\n",
    "    while(N>0):\n",
    "        a=int(input(\"número\"))\n",
    "        Lista.append(a)\n",
    "        N=N-1\n",
    "    return Lista\n"
   ]
  },
  {
   "cell_type": "code",
   "execution_count": 10,
   "id": "06aa6307",
   "metadata": {},
   "outputs": [
    {
     "data": {
      "text/plain": [
       "[1, 2, 3]"
      ]
     },
     "execution_count": 10,
     "metadata": {},
     "output_type": "execute_result"
    }
   ],
   "source": [
    "x= int(input('numero'))\n",
    "Lelista(x)"
   ]
  },
  {
   "cell_type": "markdown",
   "id": "bdcbffb0",
   "metadata": {},
   "source": [
    "### Exercício 3: Somar uma lista de números\n",
    "- Defina uma função que recebe uma lista como argumento e devolve a soma dos números nessa lista."
   ]
  },
  {
   "cell_type": "code",
   "execution_count": 16,
   "id": "64ad6f7b",
   "metadata": {},
   "outputs": [],
   "source": [
    "# Solução do exercício 3\n",
    "def somaLista(lista):\n",
    "    soma=0\n",
    "    for i in lista:\n",
    "        soma=soma+i\n",
    "    print(soma)\n",
    "    return soma\n"
   ]
  },
  {
   "cell_type": "markdown",
   "id": "bdcbffb0",
   "metadata": {},
   "source": [
    "### Exercício 4: Calcular a média duma lista de números\n",
    "- Defina uma função que recebe uma lista como argumento e devolve a média dos números nessa lista."
   ]
  },
  {
   "cell_type": "code",
   "execution_count": 15,
   "id": "a6c32b2e",
   "metadata": {},
   "outputs": [],
   "source": [
    "# Solução do exercício 4\n",
    "def mediaLista(lista):\n",
    "    soma=0\n",
    "    for i in lista:\n",
    "        soma=soma+i\n",
    "    resultado= soma / len(lista)\n",
    "    print(resultado)\n",
    "    return resultado\n",
    "\n"
   ]
  },
  {
   "cell_type": "code",
   "execution_count": 37,
   "id": "ac461ff8",
   "metadata": {},
   "outputs": [
    {
     "data": {
      "text/plain": [
       "2.0"
      ]
     },
     "execution_count": 37,
     "metadata": {},
     "output_type": "execute_result"
    }
   ],
   "source": [
    "mediaLista([1,2,3])"
   ]
  },
  {
   "cell_type": "markdown",
   "id": "f41ef69b",
   "metadata": {},
   "source": [
    "### Exercício 5: Maior de uma sequência\n",
    "- Defina uma função que recebe uma lista como argumento e devolve o maior número nessa lista."
   ]
  },
  {
   "cell_type": "code",
   "execution_count": 17,
   "id": "86f5b24d",
   "metadata": {},
   "outputs": [],
   "source": [
    "# Solução do exercício 5\n",
    "def maiorLista(lista):\n",
    "    maior = lista [0]\n",
    "    for i in lista [1:]:\n",
    "        if i > maior:\n",
    "            maior = i\n",
    "    print(maior)\n",
    "    return maior"
   ]
  },
  {
   "cell_type": "markdown",
   "id": "d11cdd11",
   "metadata": {},
   "source": [
    "### Exercício 6: Menor de uma sequência\n",
    "- Defina uma função que recebe uma lista como argumento e devolve o menor número nessa lista."
   ]
  },
  {
   "cell_type": "code",
   "execution_count": 18,
   "id": "7549c7d7",
   "metadata": {},
   "outputs": [],
   "source": [
    "# Solução do exercício 6\n",
    "def menorLista(lista):\n",
    "    menor = lista [0]\n",
    "    for i in lista [1:]:\n",
    "        if i < menor:\n",
    "            menor=i\n",
    "    print(menor)\n",
    "    return menor"
   ]
  },
  {
   "cell_type": "markdown",
   "id": "775a02a5",
   "metadata": {},
   "source": [
    "### Exercício 7: Contar strings\n",
    "- Defina uma função que recebe uma lista de strings como argumento e devolve número de strings nessa lista que:\n",
    "    1. Têm tamanho maior ou igual a 2;\n",
    "    2. Começam e terminam pelo mesmo caracter.\n",
    "#### Input (exemplo)\n",
    "in: ['abc', 'xyz', 'aba', '1221']\n",
    "#### Output (exemplo)\n",
    "out: 2"
   ]
  },
  {
   "cell_type": "code",
   "execution_count": 18,
   "id": "7390bc6a",
   "metadata": {},
   "outputs": [],
   "source": [
    "# Solução do exercício 7\n",
    "def contarStringsLista(lista):\n",
    "    for i in lista:\n",
    "        if len(i) >=2:\n",
    "            if  i[0] == i [-1]:\n",
    "                total = total + 1\n",
    "    return total\n",
    "    contarStringsLista(['abc', 'xyz', 'aba', '1221', 'tttt'])\n"
   ]
  },
  {
   "cell_type": "code",
   "execution_count": 24,
   "id": "f40d9474",
   "metadata": {},
   "outputs": [
    {
     "data": {
      "text/plain": [
       "4"
      ]
     },
     "execution_count": 24,
     "metadata": {},
     "output_type": "execute_result"
    }
   ],
   "source": [
    "x = [1,2,3,4]\n",
    "\n",
    "#print (x[-2])\n",
    "\n",
    "len (\"abc\")\n",
    "len(x)\n"
   ]
  },
  {
   "cell_type": "markdown",
   "id": "f9ba457b",
   "metadata": {},
   "source": [
    "### Exercício 8: Remover duplicados\n",
    "- Defina uma função que recebe uma lista como argumento e devolve uma nova lista eliminando elementos repetidos."
   ]
  },
  {
   "cell_type": "code",
   "execution_count": 19,
   "id": "0abc61e5",
   "metadata": {},
   "outputs": [],
   "source": [
    "# Solução do exercício 8\n",
    "def remDupLista(lista):\n",
    "    resultado = []\n",
    "    for i in lista:\n",
    "        if i not in resultado:\n",
    "            resultado.append(i)\n",
    "    return resultado"
   ]
  },
  {
   "cell_type": "code",
   "execution_count": 20,
   "id": "252b3109",
   "metadata": {},
   "outputs": [
    {
     "data": {
      "text/plain": [
       "[2, 5, 8]"
      ]
     },
     "execution_count": 20,
     "metadata": {},
     "output_type": "execute_result"
    }
   ],
   "source": [
    "remDupLista([2,5,2,5,8])"
   ]
  },
  {
   "cell_type": "markdown",
   "id": "9bc471d8",
   "metadata": {},
   "source": [
    "### Exercício 9: eVazia?\n",
    "- Defina uma função que recebe uma lista como argumento e devolve um resultado booleano verdadeiro se a lista estiver vazia."
   ]
  },
  {
   "cell_type": "code",
   "execution_count": 4,
   "id": "18cf2aff",
   "metadata": {},
   "outputs": [],
   "source": [
    "# Solução do exercício 9\n",
    "\n",
    "def eVazia(lista):\n",
    "    resultado=bool\n",
    "    if lista==[]:\n",
    "        resultado= True\n",
    "    else:\n",
    "        resultado= False\n",
    "  \n",
    "    return resultado"
   ]
  },
  {
   "cell_type": "code",
   "execution_count": 25,
   "id": "89975104",
   "metadata": {},
   "outputs": [
    {
     "data": {
      "text/plain": [
       "False"
      ]
     },
     "execution_count": 25,
     "metadata": {},
     "output_type": "execute_result"
    }
   ],
   "source": [
    "eVazia([1,2,3])\n"
   ]
  },
  {
   "cell_type": "markdown",
   "id": "72b8fac0",
   "metadata": {},
   "source": [
    "### Exercício 10: Copiar lista\n",
    "- Defina uma função que recebe uma lista como argumento e devolve uma nova lista correspondente a uma cópia da lista recebida."
   ]
  },
  {
   "cell_type": "code",
   "execution_count": 28,
   "id": "a61ca503",
   "metadata": {},
   "outputs": [],
   "source": [
    "# Solução do exercício 10\n",
    "def copiarLista(lista):\n",
    "\n",
    "   lista2=lista\n",
    "   return lista2"
   ]
  },
  {
   "cell_type": "code",
   "execution_count": 29,
   "id": "579102cb",
   "metadata": {},
   "outputs": [
    {
     "data": {
      "text/plain": [
       "[2, 5, 7, 9, 10]"
      ]
     },
     "execution_count": 29,
     "metadata": {},
     "output_type": "execute_result"
    }
   ],
   "source": [
    "copiarLista([2,5,7,9,10])"
   ]
  },
  {
   "cell_type": "markdown",
   "id": "d170cc50",
   "metadata": {},
   "source": [
    "### Exercício 11: Strings maiores que n carateres\n",
    "- Defina uma função que recebe dois argumentos, uma lista de strings e um número inteiro, e que devolve uma nova lista de strings em que estas têm um comprimento igual ou superior ao valor inteiro passado como argumento."
   ]
  },
  {
   "cell_type": "code",
   "execution_count": 30,
   "id": "1944ef1d",
   "metadata": {},
   "outputs": [],
   "source": [
    "# Solução do exercício 11\n",
    "\n",
    "def stringsMaioresLista(lista, n):\n",
    "    Lista2=[]\n",
    "    for s in lista:\n",
    "        if len >=n:\n",
    "            Lista2.append(s)\n",
    "   \n",
    "    return Lista2"
   ]
  },
  {
   "cell_type": "markdown",
   "id": "af46fe06",
   "metadata": {},
   "source": [
    "### Exercício 12: Comum?\n",
    "- Defina uma função que recebe duas listas como argumento, e que devolve o valor booleano verdadeiro se as listas tiverem pelo menos um elemento comum."
   ]
  },
  {
   "cell_type": "code",
   "execution_count": 31,
   "id": "7a2f4413",
   "metadata": {},
   "outputs": [],
   "source": [
    "# Solução do exercício 12\n",
    "\n",
    "def haComuns(listaA, listaB):\n",
    "        valor= False\n",
    "        for i in listaA:\n",
    "            if i in listaB:\n",
    "                valor= True\n",
    "\n",
    "        return valor "
   ]
  },
  {
   "cell_type": "markdown",
   "id": "061bae0e",
   "metadata": {},
   "source": [
    "### Exercício 13: Comuns\n",
    "- Defina uma função que recebe duas listas como argumento, e que devolve uma nova lista com os valores comuns às duas listas."
   ]
  },
  {
   "cell_type": "code",
   "execution_count": 1,
   "id": "02db9458",
   "metadata": {},
   "outputs": [],
   "source": [
    "# Solução do exercício 13\n",
    "def comuns(listaA, listaB):\n",
    "    \n",
    "    resultado=[]\n",
    "    for i in listaA:\n",
    "        if i in listaB:\n",
    "            resultado.append(i)\n",
    "    return resultado"
   ]
  },
  {
   "cell_type": "markdown",
   "id": "af4f2b11",
   "metadata": {},
   "source": [
    "### Exercício 14: Únicos\n",
    "- Defina uma função que recebe duas listas como argumento, e que devolve uma nova lista com os valores que apenas existem numa delas."
   ]
  },
  {
   "cell_type": "code",
   "execution_count": 22,
   "id": "01a0d35e",
   "metadata": {},
   "outputs": [],
   "source": [
    "# Solução do exercício 14\n",
    "\n",
    "import random\n",
    "\n",
    "def unicos(listaA, listaB):\n",
    "    x= random.randrange(1,3)\n",
    "    print(x)\n",
    "    \n",
    "    resultado=[]\n",
    "    \n",
    "    if x == 1:\n",
    "        resultado.append(listaA)\n",
    "    elif x== 2:\n",
    "        resultado.append(listaB)\n",
    "    \n",
    "    return resultado\n"
   ]
  },
  {
   "cell_type": "markdown",
   "id": "2acbab46",
   "metadata": {},
   "source": [
    "### Exercício 15: indiceDe\n",
    "- Defina uma função que recebe uma lista e um elemento como argumento, e que devolve o índice desse elemento na lista. No caso do elemento não existir na lista deverá devolver o valor -1."
   ]
  },
  {
   "cell_type": "code",
   "execution_count": 13,
   "id": "3891e6c3",
   "metadata": {},
   "outputs": [],
   "source": [
    "# Solução do exercício 15\n",
    "def índice_do_elem(lista, elem):\n",
    "    \n",
    "    for i,v in enumerate(lista):\n",
    "        if v == elem:\n",
    "            print('o índice é', i)\n",
    "            \n",
    "            return i\n",
    "    print('o elemento não existe na lista')\n",
    "    return -1\n"
   ]
  },
  {
   "cell_type": "markdown",
   "id": "1d9c2fbc",
   "metadata": {},
   "source": [
    "### Exercício 16: estaOrdenada\n",
    "- Defina uma função que recebe uma lista de números e verifica se a mesma está ordenada por ordem crescente."
   ]
  },
  {
   "cell_type": "code",
   "execution_count": 10,
   "id": "fb44546a",
   "metadata": {},
   "outputs": [],
   "source": [
    "# Solução do exercício 16\n",
    "\n",
    "def estaOrdenadaC(lista):\n",
    "    prev=lista[0]\n",
    "    for i in lista:\n",
    "        if i >= prev:\n",
    "            prev = i\n",
    "        else:\n",
    "            print(\"Não\")\n",
    "           \n",
    "            return False\n",
    "\n",
    "    print(\"Sim\")\n",
    "   \n",
    "    return True\n",
    "    \n",
    "   \n"
   ]
  },
  {
   "cell_type": "code",
   "execution_count": 11,
   "id": "5b201079",
   "metadata": {},
   "outputs": [],
   "source": [
    "# ver se está ordenada por ordem decrescente (para o jogo)\n",
    "\n",
    "def estaOrdenadaD(lista):\n",
    "    prev= lista[0]\n",
    "    for i in lista:\n",
    "        if i<= prev:\n",
    "            prev=i\n",
    "        else:\n",
    "            print('Não')\n",
    "            \n",
    "            return False\n",
    "    print('Sim')\n",
    "    \n",
    "    return True"
   ]
  },
  {
   "cell_type": "markdown",
   "id": "4c48dc90",
   "metadata": {},
   "source": [
    "### Exercício 17: estaOrdenadaCD\n",
    "- Modifique a função do exercício anterior para receber um parâmetro extra, **ordem**, que poderá ter valores \"C\" ou \"D\" e que vai verificar se a lista está ordenada por ordem crescente se **ordem=\"C\"** ou se está ordenada por ordem decrescente se **ordem=\"D\"**."
   ]
  },
  {
   "cell_type": "code",
   "execution_count": 21,
   "id": "f4b83960",
   "metadata": {},
   "outputs": [],
   "source": [
    "# Solução do exercício 16\n",
    "def estaOrdenadaCD(lista, ordem):\n",
    "    prev= lista[0]\n",
    "    \n",
    "    if ordem == 'C':\n",
    "         \n",
    "        for i in lista:\n",
    "            if i >= prev:\n",
    "                prev = i\n",
    "            else:\n",
    "                return False    \n",
    "        return True\n",
    "    \n",
    "    elif ordem == 'D':\n",
    "        for i in lista:\n",
    "            if i <= prev:\n",
    "                prev = i\n",
    "            else:\n",
    "                return False    \n",
    "        return True    "
   ]
  },
  {
   "cell_type": "markdown",
   "id": "4193a91b",
   "metadata": {},
   "source": [
    "### TPC3: Aplicação para manipulação de listas de inteiros\n",
    "- Crie uma aplicação em Python que coloca no monitor o seguinte menu:\n",
    "    * (1) Criar Lista \n",
    "    * (2) Ler Lista\n",
    "    * (3) Soma\n",
    "    * (4) Média\n",
    "    * (5) Maior\n",
    "    * (6) Menor\n",
    "    * (7) estaOrdenada por ordem crescente\n",
    "    * (8) estaOrdenada por ordem decrescente\n",
    "    * (9) Procura um elemento\n",
    "    * (0) Sair\n",
    "- O utilizador irá escolher uma das opções introduzindo o número correspondente;\n",
    "- Se a opção não for sair, a aplicação executa a operação pretendida, apresenta o resultado e a seguir apresenta de novo o menu;\n",
    "- Se a opção for sair, a aplicação termina colocando uma mensagem no monitor.\n",
    "\n",
    "* No desenvolvimento da aplicação deverá ter em atenção o seguinte:\n",
    "    - A aplicação terá uma variável interna para guardar uma lista de números;\n",
    "    - Na opção 1, deverá ser criada uma lista de números aleatórios entre 1 e 100 que será guardada na variável interna;\n",
    "    - Na opção 2, deverá ser criada uma lista com números introduzidos pelo utilizador, que será guardada na variável interna;\n",
    "    - Nestas primeiras opções, se a variável interna já tiver uma lista, esta será sobreposta/apagada pela nova lista;\n",
    "    - Na opção 3, será calculada a soma dos elementos na lista no momento;\n",
    "    - Na opção 4, será calculada a média dos elementos na lista no momento;\n",
    "    - Na opção 5, será calculado o maior elemento da lista no momento;\n",
    "    - Na opção 6, será calculado o menor elemento da lista no momento;\n",
    "    - Na opção 7, a aplicação deverá indicar (Sim/Não) se a lista está ordenada por ordem crescente;\n",
    "    - Na opção 8, a aplicação deverá indicar (Sim/Não) se a lista está ordenada por ordem decrescente;\n",
    "    - Na opção 9, a aplicação irá procurar um ellmento na lista, se o encontrar deverá devolver a sua posição;\n",
    "    - Se o utilizador selecionar a opção 0, a aplicação deverá terminar mostrando a lista que está nesse momento guardada."
   ]
  },
  {
   "cell_type": "code",
   "execution_count": 14,
   "id": "db71cbc3",
   "metadata": {},
   "outputs": [
    {
     "name": "stdout",
     "output_type": "stream",
     "text": [
      "------------Menu----------\n",
      "1. Criar Lista\n",
      "2. Ler Lista\n",
      "3. Soma\n",
      "4. Média\n",
      "5. Maior\n",
      "6. Menor\n",
      "7. estaOrdenada por ordem crescente\n",
      "8. estaordenada por ordem decrescente\n",
      "9. Procura um elemento\n",
      "0. Sair\n",
      "\n",
      "\n",
      "[93, 6, 86, 37, 65, 40, 18, 87, 92, 64, 44, 46, 87, 52, 95, 28, 6, 100, 98, 53, 100, 1, 45, 45, 16, 12, 11, 2, 85, 16, 86, 8, 45, 64, 30, 91, 54, 46, 91, 88, 80, 55, 87, 25, 97, 66, 44, 65, 4, 63, 78, 60, 92, 30, 65, 7, 4, 37, 3, 49, 2, 97, 89, 76, 47, 94, 5, 38, 97, 98, 54, 45, 40, 21, 51, 62, 43, 57, 84, 2, 83, 100, 15, 7, 98, 84, 26, 67, 32, 28, 44, 26, 23, 93, 61, 31, 15, 92, 19, 39]\n",
      "------------Menu----------\n",
      "1. Criar Lista\n",
      "2. Ler Lista\n",
      "3. Soma\n",
      "4. Média\n",
      "5. Maior\n",
      "6. Menor\n",
      "7. estaOrdenada por ordem crescente\n",
      "8. estaordenada por ordem decrescente\n",
      "9. Procura um elemento\n",
      "0. Sair\n",
      "\n",
      "\n"
     ]
    },
    {
     "ename": "NameError",
     "evalue": "name 'somaLista' is not defined",
     "output_type": "error",
     "traceback": [
      "\u001b[1;31m---------------------------------------------------------------------------\u001b[0m",
      "\u001b[1;31mNameError\u001b[0m                                 Traceback (most recent call last)",
      "Cell \u001b[1;32mIn [14], line 39\u001b[0m\n\u001b[0;32m     36\u001b[0m     Lelista(x)\n\u001b[0;32m     38\u001b[0m \u001b[39mif\u001b[39;00m escolha\u001b[39m==\u001b[39m\u001b[39m3\u001b[39m:\n\u001b[1;32m---> 39\u001b[0m     somaLista(Lista)\n\u001b[0;32m     41\u001b[0m \u001b[39mif\u001b[39;00m escolha\u001b[39m==\u001b[39m\u001b[39m4\u001b[39m:\n\u001b[0;32m     42\u001b[0m     mediaLista(Lista)\n",
      "\u001b[1;31mNameError\u001b[0m: name 'somaLista' is not defined"
     ]
    }
   ],
   "source": [
    "import random\n",
    "\n",
    "def menu():\n",
    "    print('------------Menu----------')\n",
    "    print('1. Criar Lista')\n",
    "    print('2. Ler Lista')\n",
    "    print('3. Soma')\n",
    "    print('4. Média')\n",
    "    print('5. Maior')\n",
    "    print('6. Menor')\n",
    "    print('7. estaOrdenada por ordem crescente')\n",
    "    print('8. estaordenada por ordem decrescente')\n",
    "    print('9. Procura um elemento')\n",
    "    print('0. Sair')\n",
    "    print(\"\\n\", flush=True)\n",
    "    return int(input('escolha uma opção'))\n",
    "\n",
    "Lista=[]\n",
    "escolha= -1\n",
    "\n",
    "\n",
    "while escolha != 0:\n",
    "\n",
    "    escolha= menu()\n",
    "\n",
    "    if escolha==1:\n",
    "        Lista=[]\n",
    "        for i in range(0,100):\n",
    "            x= random.randrange (1,101)               \n",
    "            Lista.append(x)\n",
    "        print(Lista)\n",
    "\n",
    "    if escolha==2:\n",
    "        Lista= []\n",
    "        x= int(input(\"insira um número\"))\n",
    "        Lelista(x)\n",
    "\n",
    "    if escolha==3:\n",
    "        somaLista(Lista)\n",
    "    \n",
    "    if escolha==4:\n",
    "        mediaLista(Lista)\n",
    "\n",
    "    if escolha==5:\n",
    "        maiorLista(Lista)\n",
    "\n",
    "    if escolha==6:\n",
    "        menorLista(Lista)\n",
    "\n",
    "    if escolha==7:\n",
    "        estaOrdenadaC(Lista)\n",
    "    \n",
    "    if escolha==8:\n",
    "        estaOrdenadaD(Lista)\n",
    "        \n",
    "    if escolha == 9:\n",
    "        elem= int(input('insira o elemento da lista cujo índice quer encontrar'))\n",
    "        índice_do_elem(Lista,elem)\n",
    "\n",
    "if escolha==0:\n",
    "    print('a lista guardada neste momento é:',Lista)\n",
    "        \n",
    "    \n",
    "    \n",
    "\n",
    "\n",
    "            \n",
    "    \n",
    "        \n",
    "\n",
    "    \n",
    "\n",
    "\n",
    "        "
   ]
  },
  {
   "cell_type": "code",
   "execution_count": null,
   "id": "6eb640b5",
   "metadata": {},
   "outputs": [],
   "source": []
  }
 ],
 "metadata": {
  "kernelspec": {
   "display_name": "Python 3.10.7 64-bit",
   "language": "python",
   "name": "python3"
  },
  "language_info": {
   "codemirror_mode": {
    "name": "ipython",
    "version": 3
   },
   "file_extension": ".py",
   "mimetype": "text/x-python",
   "name": "python",
   "nbconvert_exporter": "python",
   "pygments_lexer": "ipython3",
   "version": "3.10.7"
  },
  "vscode": {
   "interpreter": {
    "hash": "40a2c2c658e0e1cc3ef67635e31678654a94050b1121f5d8bab29de435b9af58"
   }
  }
 },
 "nbformat": 4,
 "nbformat_minor": 5
}
